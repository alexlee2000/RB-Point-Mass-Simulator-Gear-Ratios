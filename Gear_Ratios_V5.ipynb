{
 "cells": [
  {
   "cell_type": "code",
   "execution_count": 1,
   "metadata": {},
   "outputs": [
    {
     "name": "stdout",
     "output_type": "stream",
     "text": [
      "[{'simId': 'c7f74fc5-5768-4584-870d-ee0727359755', 'name': 'local_simulator'}]\n",
      "09:40:21\n",
      "09:40:26\n",
      "09:40:31\n",
      "09:40:36\n",
      "09:40:41\n",
      "09:40:46\n",
      "09:40:51\n",
      "09:40:56\n",
      "09:41:01\n",
      "09:41:06\n",
      "09:41:11\n",
      "09:41:16\n",
      "09:41:21\n",
      "09:41:26\n",
      "09:41:31\n",
      "09:41:36\n",
      "09:41:41\n",
      "09:41:46\n",
      "09:41:51\n",
      "09:41:56\n",
      "flag is True\n"
     ]
    }
   ],
   "source": [
    "import pandas as pd \n",
    "import numpy as np \n",
    "import requests \n",
    "import time \n",
    "import datetime \n",
    "import json\n",
    "import glob\n",
    "import os\n",
    "\n",
    "# API call - Get\n",
    "r = requests.get(\"http://localhost:8009/api/point_mass_sim/simulators\")\n",
    "print(r.json())\n",
    "\n",
    "# Retrieving the SimId \n",
    "for dict in r.json():\n",
    "    dict_simId = dict['simId']\n",
    "simId = dict_simId\n",
    "\n",
    "# Grid of gearRatios \n",
    "ratio_grid = np.linspace(0, 8, 100).round(2) \n",
    "\n",
    "# API call - Post \n",
    "sessionId_array = [None] * len(ratio_grid)\n",
    "i = 0\n",
    "for gear_ratio in ratio_grid: \n",
    "    r = requests.post(\"http://localhost:8009/api/point_mass_sim\", \n",
    "    json = {\"simId\": simId,\n",
    "    \"carId\": \"1\",\n",
    "    \"title\": \"test\",\n",
    "    \"description\": \"testing\",\n",
    "    \"trackId\": \"track\",\n",
    "    \"parameters\": {\n",
    "        \"trackModuleList\": [{\n",
    "            \"track\": \"Standard-Endurance-Track-CCW\" # This parameter doesn't work properly atm. \n",
    "        }],\n",
    "        \"generalModuleList\": [{\n",
    "            \"driverMass\": 77,\n",
    "            \"carMass\": 200,\n",
    "            \"allWheelDrive\": False,\n",
    "            \"frontMassDistribution\": 0.45,\n",
    "            \"gravity\": 9.81,\n",
    "            \"airDensity\": 1.225\n",
    "        }],\n",
    "        \"suspensionModuleList\": [{\n",
    "            \"mu\": 1.4,\n",
    "            \"tyreRadius\": 0.221\n",
    "        }],\n",
    "        \"brakeModuleList\": [{\n",
    "            \"discRadius\": 0.075,\n",
    "            \"muPad\": 0.45,\n",
    "            \"pistonArea\": 0.0013,\n",
    "            \"boreRadius\": 0.007,\n",
    "            \"mrPedal\": 1.6\n",
    "        }],\n",
    "        \"gearModuleList\": [{\n",
    "            \"gearChangeTime\": 0.1,\n",
    "            \"primaryGearRatio\": 2.545,\n",
    "            \"finalDriveRatio\": gear_ratio, # CHANGING THE FINALDRIVERATIO ONLY!!!\n",
    "            \"driveLineEfficiency\": 0.85,\n",
    "            \"gearRatios\": [2.307, 1.8, 1.437, 1.15, 1.0]\n",
    "        }],\n",
    "        \"powerModuleList\": [{\n",
    "            \"powerCurve\": [\n",
    "                [3000, 11370, 0.3484],\n",
    "                [4000, 17510, 0.3484],\n",
    "                [5000, 28220, 0.3078],\n",
    "                [6000, 35840, 0.2961],\n",
    "                [7000, 38970, 0.293],\n",
    "                [8000, 41970, 0.2919],\n",
    "                [9000, 42810, 0.3019],\n",
    "                [10000, 40180, 0.3049],\n",
    "                [11000, 40020, 0.321],\n",
    "                [12000, 34860, 0.321]\n",
    "            ]\n",
    "        }],\n",
    "        \"aeroModuleList\": [{\n",
    "            \"liftCoefficient\": -1.5, \n",
    "            \"dragCoefficient\": 0.79\n",
    "        }]\n",
    "    }\n",
    "    }\n",
    "    )\n",
    "    # Retrieving the SessionId for current session \n",
    "    for dict in r.json():\n",
    "        dict_sessionId = r.json()[dict]\n",
    "        break\n",
    "    sessionId_array[i] = dict_sessionId\n",
    "    i = i + 1 \n",
    "\n",
    "# Results\n",
    "flag = False \n",
    "while flag == False: \n",
    "    now = datetime.datetime.now() \n",
    "    date_time = now.strftime(\"%H:%M:%S\") \n",
    "    print(date_time)\n",
    "\n",
    "    flag_test_pre = glob.glob('/Users/lexy/telemetry-system/service_data/data/1/2/'+str(sessionId_array[-1]))[0]\n",
    "    os.chdir(flag_test_pre)\n",
    "    lis_pre = os.listdir('.')\n",
    "    if(len(lis_pre) == 2): \n",
    "        flag_test = glob.glob('/Users/lexy/telemetry-system/service_data/data/1/2/'+str(sessionId_array[-1])+'/*-*')[0]\n",
    "        os.chdir(flag_test)\n",
    "        lis = os.listdir('.')\n",
    "        if(len(lis) == 2): \n",
    "            print(\"flag is True\")\n",
    "            flag = True\n",
    "            idx = 0 \n",
    "            cols = [\"GearRatio\", \"lapTime\", \"fuelConsumption\", \"maxBrakeForce\"]\n",
    "            results = pd.DataFrame(columns = cols)\n",
    "            while idx < len(ratio_grid): \n",
    "                path_test = glob.glob('/Users/lexy/telemetry-system/service_data/data/1/2/'+str(sessionId_array[idx])+'/')[0]\n",
    "                os.chdir(path_test)\n",
    "                lis = os.listdir('.')\n",
    "                if(len(lis) == 2):\n",
    "                    path = glob.glob('/Users/lexy/telemetry-system/service_data/data/1/2/'+str(sessionId_array[idx])+'/*-*')[0]+'/metadata.json'\n",
    "                    f = open(str(path))\n",
    "                    out = json.load(f)\n",
    "                    results.loc[idx] = [out['data']['parameters']['finalDriveRatio'],out['data']['results']['lapTime'], out['data']['results']['fuelConsumption'], out['data']['results']['maxBrakeForce']]\n",
    "                    f.close()\n",
    "                os.chdir('..')\n",
    "                idx = idx + 1 \n",
    "            break\n",
    "    time.sleep(5)"
   ]
  },
  {
   "cell_type": "markdown",
   "metadata": {},
   "source": [
    "## Results / Exporting"
   ]
  },
  {
   "cell_type": "markdown",
   "metadata": {},
   "source": [
    "Note that at the moment, we need to run this whole program 3 times changing the code in 'Program.cs' line 183 to the specific map each time. "
   ]
  },
  {
   "cell_type": "code",
   "execution_count": 25,
   "metadata": {},
   "outputs": [
    {
     "data": {
      "text/html": "<div>\n<style scoped>\n    .dataframe tbody tr th:only-of-type {\n        vertical-align: middle;\n    }\n\n    .dataframe tbody tr th {\n        vertical-align: top;\n    }\n\n    .dataframe thead th {\n        text-align: right;\n    }\n</style>\n<table border=\"1\" class=\"dataframe\">\n  <thead>\n    <tr style=\"text-align: right;\">\n      <th></th>\n      <th>GearRatio</th>\n      <th>lapTime</th>\n      <th>fuelConsumption</th>\n      <th>maxBrakeForce</th>\n    </tr>\n  </thead>\n  <tbody>\n    <tr>\n      <th>0</th>\n      <td>0.00</td>\n      <td>4.832026</td>\n      <td>0.325431</td>\n      <td>0.0</td>\n    </tr>\n    <tr>\n      <th>1</th>\n      <td>0.89</td>\n      <td>4.832026</td>\n      <td>0.325431</td>\n      <td>0.0</td>\n    </tr>\n    <tr>\n      <th>2</th>\n      <td>1.78</td>\n      <td>4.832026</td>\n      <td>0.325431</td>\n      <td>0.0</td>\n    </tr>\n    <tr>\n      <th>3</th>\n      <td>2.67</td>\n      <td>4.832026</td>\n      <td>0.325431</td>\n      <td>0.0</td>\n    </tr>\n    <tr>\n      <th>4</th>\n      <td>3.56</td>\n      <td>4.832026</td>\n      <td>0.325431</td>\n      <td>0.0</td>\n    </tr>\n    <tr>\n      <th>5</th>\n      <td>4.44</td>\n      <td>4.832026</td>\n      <td>0.325431</td>\n      <td>0.0</td>\n    </tr>\n    <tr>\n      <th>6</th>\n      <td>5.33</td>\n      <td>4.832026</td>\n      <td>0.325431</td>\n      <td>0.0</td>\n    </tr>\n    <tr>\n      <th>7</th>\n      <td>6.22</td>\n      <td>4.832026</td>\n      <td>0.325431</td>\n      <td>0.0</td>\n    </tr>\n    <tr>\n      <th>8</th>\n      <td>7.11</td>\n      <td>4.832026</td>\n      <td>0.325431</td>\n      <td>0.0</td>\n    </tr>\n    <tr>\n      <th>9</th>\n      <td>8.00</td>\n      <td>4.832026</td>\n      <td>0.325431</td>\n      <td>0.0</td>\n    </tr>\n  </tbody>\n</table>\n</div>",
      "text/plain": "   GearRatio   lapTime  fuelConsumption  maxBrakeForce\n0       0.00  4.832026         0.325431            0.0\n1       0.89  4.832026         0.325431            0.0\n2       1.78  4.832026         0.325431            0.0\n3       2.67  4.832026         0.325431            0.0\n4       3.56  4.832026         0.325431            0.0\n5       4.44  4.832026         0.325431            0.0\n6       5.33  4.832026         0.325431            0.0\n7       6.22  4.832026         0.325431            0.0\n8       7.11  4.832026         0.325431            0.0\n9       8.00  4.832026         0.325431            0.0"
     },
     "execution_count": 25,
     "metadata": {},
     "output_type": "execute_result"
    }
   ],
   "source": [
    "results"
   ]
  },
  {
   "cell_type": "code",
   "execution_count": 34,
   "metadata": {},
   "outputs": [
    {
     "data": {
      "text/html": "<div>\n<style scoped>\n    .dataframe tbody tr th:only-of-type {\n        vertical-align: middle;\n    }\n\n    .dataframe tbody tr th {\n        vertical-align: top;\n    }\n\n    .dataframe thead th {\n        text-align: right;\n    }\n</style>\n<table border=\"1\" class=\"dataframe\">\n  <thead>\n    <tr style=\"text-align: right;\">\n      <th></th>\n      <th>GearRatio</th>\n      <th>lapTime</th>\n      <th>fuelConsumption</th>\n      <th>maxBrakeForce</th>\n    </tr>\n  </thead>\n  <tbody>\n    <tr>\n      <th>0</th>\n      <td>0.00</td>\n      <td>23.525341</td>\n      <td>10.923068</td>\n      <td>104.644468</td>\n    </tr>\n    <tr>\n      <th>1</th>\n      <td>0.08</td>\n      <td>23.525341</td>\n      <td>10.923068</td>\n      <td>104.644468</td>\n    </tr>\n    <tr>\n      <th>2</th>\n      <td>0.16</td>\n      <td>23.525341</td>\n      <td>10.923068</td>\n      <td>104.644468</td>\n    </tr>\n    <tr>\n      <th>3</th>\n      <td>0.24</td>\n      <td>23.525341</td>\n      <td>10.923068</td>\n      <td>104.644468</td>\n    </tr>\n    <tr>\n      <th>4</th>\n      <td>0.32</td>\n      <td>23.525341</td>\n      <td>10.923068</td>\n      <td>104.644468</td>\n    </tr>\n    <tr>\n      <th>...</th>\n      <td>...</td>\n      <td>...</td>\n      <td>...</td>\n      <td>...</td>\n    </tr>\n    <tr>\n      <th>95</th>\n      <td>7.68</td>\n      <td>25.092369</td>\n      <td>2.476532</td>\n      <td>95.129999</td>\n    </tr>\n    <tr>\n      <th>96</th>\n      <td>7.76</td>\n      <td>25.275458</td>\n      <td>2.618625</td>\n      <td>95.129999</td>\n    </tr>\n    <tr>\n      <th>97</th>\n      <td>7.84</td>\n      <td>25.459244</td>\n      <td>2.451205</td>\n      <td>95.129999</td>\n    </tr>\n    <tr>\n      <th>98</th>\n      <td>7.92</td>\n      <td>25.643503</td>\n      <td>2.158550</td>\n      <td>95.129999</td>\n    </tr>\n    <tr>\n      <th>99</th>\n      <td>8.00</td>\n      <td>25.828510</td>\n      <td>2.044172</td>\n      <td>95.129999</td>\n    </tr>\n  </tbody>\n</table>\n<p>100 rows × 4 columns</p>\n</div>",
      "text/plain": "    GearRatio    lapTime  fuelConsumption  maxBrakeForce\n0        0.00  23.525341        10.923068     104.644468\n1        0.08  23.525341        10.923068     104.644468\n2        0.16  23.525341        10.923068     104.644468\n3        0.24  23.525341        10.923068     104.644468\n4        0.32  23.525341        10.923068     104.644468\n..        ...        ...              ...            ...\n95       7.68  25.092369         2.476532      95.129999\n96       7.76  25.275458         2.618625      95.129999\n97       7.84  25.459244         2.451205      95.129999\n98       7.92  25.643503         2.158550      95.129999\n99       8.00  25.828510         2.044172      95.129999\n\n[100 rows x 4 columns]"
     },
     "execution_count": 34,
     "metadata": {},
     "output_type": "execute_result"
    }
   ],
   "source": [
    "results # endurance \n",
    "\n",
    "# export to csv \n",
    "results.to_csv('endurance_output.csv')"
   ]
  },
  {
   "cell_type": "code",
   "execution_count": 9,
   "metadata": {},
   "outputs": [
    {
     "data": {
      "text/html": "<div>\n<style scoped>\n    .dataframe tbody tr th:only-of-type {\n        vertical-align: middle;\n    }\n\n    .dataframe tbody tr th {\n        vertical-align: top;\n    }\n\n    .dataframe thead th {\n        text-align: right;\n    }\n</style>\n<table border=\"1\" class=\"dataframe\">\n  <thead>\n    <tr style=\"text-align: right;\">\n      <th></th>\n      <th>GearRatio</th>\n      <th>lapTime</th>\n      <th>fuelConsumption</th>\n      <th>maxBrakeForce</th>\n    </tr>\n  </thead>\n  <tbody>\n  </tbody>\n</table>\n</div>",
      "text/plain": "Empty DataFrame\nColumns: [GearRatio, lapTime, fuelConsumption, maxBrakeForce]\nIndex: []"
     },
     "execution_count": 9,
     "metadata": {},
     "output_type": "execute_result"
    }
   ],
   "source": [
    "print(results) # acceleration (not currently working atm. Raised this issue with Leo )\n",
    "\n",
    "# export to csv \n",
    "results.to_csv('acceleration_output.csv')"
   ]
  },
  {
   "cell_type": "code",
   "execution_count": 38,
   "metadata": {},
   "outputs": [],
   "source": [
    "results # skidpad \n",
    "\n",
    "# export to csv \n",
    "results.to_csv('skidpad_output.csv')"
   ]
  }
 ],
 "metadata": {
  "kernelspec": {
   "display_name": "Python 3.9.5 64-bit",
   "name": "python395jvsc74a57bd07812ea015bdcee6f23a998adcdd2ef97c151c0c241b7b7070987d9313e41299d"
  },
  "language_info": {
   "name": "python",
   "version": ""
  },
  "metadata": {
   "interpreter": {
    "hash": "7812ea015bdcee6f23a998adcdd2ef97c151c0c241b7b7070987d9313e41299d"
   }
  },
  "orig_nbformat": 3
 },
 "nbformat": 4,
 "nbformat_minor": 2
}