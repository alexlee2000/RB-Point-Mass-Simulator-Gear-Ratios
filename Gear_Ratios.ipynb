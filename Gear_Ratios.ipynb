{
 "cells": [
  {
   "cell_type": "code",
   "execution_count": null,
   "metadata": {},
   "outputs": [],
   "source": [
    "import requests \n",
    "import json\n",
    "\n",
    "r = requests.get(\"http://localhost:8009/api/point_mass_sim/simulators\")\n",
    "\n",
    "print(r.json())\n",
    "\n",
    "for dict in r.json():\n",
    "    dict_simId = dict['SimId']\n",
    "\n",
    "simId = dict_simId"
   ]
  },
  {
   "cell_type": "code",
   "execution_count": 56,
   "metadata": {},
   "outputs": [],
   "source": [
    "# And then find a way to extract the input parameters and put into the json dictionary below from a csv dataframe. \n",
    "# - note that we will need to do multiple post requests, 1 for each row of inputs so may need a loop. \n",
    "\n",
    "# And then we need an efficient way to access these outputs. Right now, 1 call of post (below) saves the data to your local system in the telemetry folder. Can we access\n",
    "# this straight from python instead of going into the directory manually? "
   ]
  },
  {
   "cell_type": "code",
   "execution_count": 57,
   "metadata": {},
   "outputs": [],
   "source": [
    "r = requests.post(\"http://localhost:8009/api/point_mass_sim\", \n",
    "json = {\"simId\": simId,\n",
    "  \"carId\": \"1\",\n",
    "  \"title\": \"test\",\n",
    "  \"description\": \"testing\",\n",
    "  \"trackId\": \"track\",\n",
    "  \"parameters\": {\n",
    "      \"trackModuleList\": [{\n",
    "          \"track\": \"standard_endurance_track_0.05m\"\n",
    "      }],\n",
    "      \"generalModuleList\": [{\n",
    "          \"driverMass\": 85,\n",
    "          \"carMass\": 200,\n",
    "          \"allWheelDrive\": False,\n",
    "          \"frontMassDistribution\": 0.45,\n",
    "          \"gravity\": 9.81,\n",
    "          \"airDensity\": 1.225\n",
    "      }],\n",
    "      \"suspensionModuleList\": [{\n",
    "          \"mu\": 1.4,\n",
    "          \"tyreRadius\": 0.221\n",
    "      }],\n",
    "      \"brakeModuleList\": [{\n",
    "          \"discRadius\": 0.075,\n",
    "          \"muPad\": 0.45,\n",
    "          \"pistonArea\": 0.0013,\n",
    "          \"boreRadius\": 0.007,\n",
    "          \"mrPedal\": 1.6\n",
    "      }],\n",
    "      \"gearModuleList\": [{\n",
    "          \"gearChangeTime\": 0.1,\n",
    "          \"primaryGearRatio\": 2.545,\n",
    "          \"finalDriveRatio\": 2.92,\n",
    "          \"driveLineEfficiency\": 0.85,\n",
    "          \"gearRatios\": [2.307, 1.8, 1.437, 1.15, 1.0]\n",
    "      }],\n",
    "      \"powerModuleList\": [{\n",
    "          \"powerCurve\": [\n",
    "            [3000, 11370, 0.3484],\n",
    "            [4000, 17510, 0.3484],\n",
    "            [5000, 28220, 0.3078],\n",
    "            [6000, 35840, 0.2961],\n",
    "            [7000, 38970, 0.293],\n",
    "            [8000, 41970, 0.2919],\n",
    "            [9000, 42810, 0.3019],\n",
    "            [10000, 40180, 0.3049],\n",
    "            [11000, 40020, 0.321],\n",
    "            [12000, 34860, 0.321]\n",
    "          ]\n",
    "      }],\n",
    "      \"aeroModuleList\": [{\n",
    "          \"liftCoefficient\": -1.5, \n",
    "          \"dragCoefficient\": 0.79\n",
    "      }]\n",
    "  }\n",
    "}\n",
    ")"
   ]
  }
 ],
 "metadata": {
  "kernelspec": {
   "display_name": "Python 3.9.5 64-bit",
   "name": "python395jvsc74a57bd0aee8b7b246df8f9039afb4144a1f6fd8d2ca17a180786b69acc140d282b71a49"
  },
  "language_info": {
   "codemirror_mode": {
    "name": "ipython",
    "version": 3
   },
   "file_extension": ".py",
   "mimetype": "text/x-python",
   "name": "python",
   "nbconvert_exporter": "python",
   "pygments_lexer": "ipython3",
   "version": "3.9.5"
  },
  "metadata": {
   "interpreter": {
    "hash": "aee8b7b246df8f9039afb4144a1f6fd8d2ca17a180786b69acc140d282b71a49"
   }
  },
  "orig_nbformat": 2
 },
 "nbformat": 4,
 "nbformat_minor": 2
}