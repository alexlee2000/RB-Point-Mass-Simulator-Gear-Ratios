{
 "cells": [
  {
   "cell_type": "code",
   "execution_count": 70,
   "metadata": {},
   "outputs": [
    {
     "name": "stdout",
     "output_type": "stream",
     "text": [
      "[{'simId': '2fe448be-4d3a-4a84-affd-7d393162d640', 'name': 'local_simulator'}]\n"
     ]
    },
    {
     "data": {
      "image/png": "[encoded data removed]",
      "text/plain": "<Figure size 1080x360 with 3 Axes>"
     },
     "metadata": {
      "needs_background": "light"
     },
     "output_type": "display_data"
    }
   ],
   "source": [
    "import matplotlib.pyplot as plt \n",
    "import pandas as pd \n",
    "import numpy as np \n",
    "import requests \n",
    "import json\n",
    "import glob\n",
    "import os\n",
    "\n",
    "# reading in the tracks \n",
    "endur = pd.read_csv('/Users/lexy/Desktop/redbackracing-point-mass-simulator-a41704dd560f/src/tracks/Standard-Endurance-Track-CCW.csv')\n",
    "accel = pd.read_csv('/Users/lexy/Desktop/redbackracing-point-mass-simulator-a41704dd560f/src/tracks/acceleration_0.1m.csv')\n",
    "skidp = pd.read_csv('/Users/lexy/Desktop/redbackracing-point-mass-simulator-a41704dd560f/src/tracks/skidpad_0.004m.csv')\n",
    "\n",
    "# plotting each track to visualise them\n",
    "fig, (ax1, ax2, ax3) = plt.subplots(1, 3, figsize = (15,5))\n",
    "ax1.set_title(\"Standard-Endurance-Track-CCW\")\n",
    "ax1.scatter(endur['x'],endur['y'])\n",
    "ax2.set_title(\"Acceleration_0.1m-Track\")\n",
    "ax2.scatter(accel['x'],accel['y'])\n",
    "ax3.set_title(\"Skidpad_0.004m-Track\")\n",
    "ax3.scatter(skidp['x'],skidp['y'])\n",
    "\n",
    "# TO DO \n",
    "# implement scoring for each of these 3 events \n",
    "\n",
    "# API call - Get\n",
    "r = requests.get(\"http://localhost:8009/api/point_mass_sim/simulators\")\n",
    "print(r.json())\n",
    "\n",
    "# Retrieving the SimId \n",
    "for dict in r.json():\n",
    "    dict_simId = dict['simId']\n",
    "simId = dict_simId\n",
    "\n",
    "# grid of gearRatios \n",
    "ratio_grid = np.linspace(0, 8, 100).round(2)\n",
    "\n",
    "# API call - Post \n",
    "sessionId_array_endurance = [None] * len(ratio_grid)\n",
    "sessionId_array_acceleration= [None] * len(ratio_grid)\n",
    "sessionId_array_skidpad = [None] * len(ratio_grid)\n",
    "tracks = [\"Standard-Endurance-Track-CCW\", \"acceleration_0.1m\", \"skidpad_0.004m\"]\n",
    "track_index = 0 \n",
    "while (track_index < 3):\n",
    "    i = 0\n",
    "    for gear_ratio in ratio_grid: \n",
    "        r = requests.post(\"http://localhost:8009/api/point_mass_sim\", \n",
    "        json = {\"simId\": simId,\n",
    "        \"carId\": \"1\",\n",
    "        \"title\": \"test\",\n",
    "        \"description\": \"testing\",\n",
    "        \"trackId\": \"track\",\n",
    "        \"parameters\": {\n",
    "            \"trackModuleList\": [{\n",
    "                \"track\": tracks[track_index]\n",
    "            }],\n",
    "            \"generalModuleList\": [{\n",
    "                \"driverMass\": 77,\n",
    "                \"carMass\": 200,\n",
    "                \"allWheelDrive\": False,\n",
    "                \"frontMassDistribution\": 0.45,\n",
    "                \"gravity\": 9.81,\n",
    "                \"airDensity\": 1.225\n",
    "            }],\n",
    "            \"suspensionModuleList\": [{\n",
    "                \"mu\": 1.4,\n",
    "                \"tyreRadius\": 0.221\n",
    "            }],\n",
    "            \"brakeModuleList\": [{\n",
    "                \"discRadius\": 0.075,\n",
    "                \"muPad\": 0.45,\n",
    "                \"pistonArea\": 0.0013,\n",
    "                \"boreRadius\": 0.007,\n",
    "                \"mrPedal\": 1.6\n",
    "            }],\n",
    "            \"gearModuleList\": [{\n",
    "                \"gearChangeTime\": 0.1,\n",
    "                \"primaryGearRatio\": 2.545,\n",
    "                \"finalDriveRatio\": gear_ratio, # CHANGING THE FINALDRIVERATIO ONLY!!!\n",
    "                \"driveLineEfficiency\": 0.85,\n",
    "                \"gearRatios\": [2.307, 1.8, 1.437, 1.15, 1.0]\n",
    "            }],\n",
    "            \"powerModuleList\": [{\n",
    "                \"powerCurve\": [\n",
    "                    [3000, 11370, 0.3484],\n",
    "                    [4000, 17510, 0.3484],\n",
    "                    [5000, 28220, 0.3078],\n",
    "                    [6000, 35840, 0.2961],\n",
    "                    [7000, 38970, 0.293],\n",
    "                    [8000, 41970, 0.2919],\n",
    "                    [9000, 42810, 0.3019],\n",
    "                    [10000, 40180, 0.3049],\n",
    "                    [11000, 40020, 0.321],\n",
    "                    [12000, 34860, 0.321]\n",
    "                ]\n",
    "            }],\n",
    "            \"aeroModuleList\": [{\n",
    "                \"liftCoefficient\": -1.5, \n",
    "                \"dragCoefficient\": 0.79\n",
    "            }]\n",
    "        }\n",
    "        }\n",
    "        )\n",
    "\n",
    "        # Retrieving the SessionId for current session \n",
    "        for dict in r.json():\n",
    "            dict_sessionId = r.json()[dict]\n",
    "            break\n",
    "\n",
    "        if(track_index == 0):\n",
    "            sessionId_array_endurance[i] = dict_sessionId\n",
    "        elif(track_index == 1):\n",
    "            sessionId_array_acceleration[i] = dict_sessionId\n",
    "        else: # track_index == 2\n",
    "            sessionId_array_skidpad[i] = dict_sessionId\n",
    "\n",
    "        i = i + 1 \n",
    "\n",
    "    track_index = track_index + 1 "
   ]
  },
  {
   "cell_type": "code",
   "execution_count": 71,
   "metadata": {},
   "outputs": [],
   "source": [
    "# If you run this block instantly after the above block, it won't run properly. You need to wait for your terminal to finish compiling before running.  \n",
    "idx = 0 \n",
    "cols = [\"GearRatio\", \"lapTime\", \"fuelConsumption\", \"maxBrakeForce\"]\n",
    "endurance_results = pd.DataFrame(columns = cols)\n",
    "acceleration_results = pd.DataFrame(columns = cols)\n",
    "skidpad_results = pd.DataFrame(columns = cols)\n",
    "\n",
    "while idx < len(ratio_grid): \n",
    "    path_test_endurance = glob.glob('/Users/lexy/telemetry-system/service_data/data/1/2/'+str(sessionId_array_endurance[idx])+'/')[0]\n",
    "    path_test_acceleration = glob.glob('/Users/lexy/telemetry-system/service_data/data/1/2/'+str(sessionId_array_acceleration[idx])+'/')[0]\n",
    "    path_test_skidpad = glob.glob('/Users/lexy/telemetry-system/service_data/data/1/2/'+str(sessionId_array_skidpad[idx])+'/')[0]\n",
    "\n",
    "    os.chdir(path_test_endurance)\n",
    "    lis = os.listdir('.')\n",
    "    if(len(lis) == 2):\n",
    "        path = glob.glob('/Users/lexy/telemetry-system/service_data/data/1/2/'+str(sessionId_array_endurance[idx])+'/*-*')[0]+'/metadata.json'\n",
    "        # Retrieving the Output from a single run + storing that output (lapTime, fuelConsumption, maxBrakeForce)\n",
    "        f = open(str(path))\n",
    "        out = json.load(f)\n",
    "        endurance_results.loc[idx] = [out['data']['parameters']['finalDriveRatio'],out['data']['results']['lapTime'], out['data']['results']['fuelConsumption'], out['data']['results']['maxBrakeForce']]\n",
    "        f.close()\n",
    "    os.chdir('..')\n",
    "\n",
    "    os.chdir(path_test_acceleration)\n",
    "    lis = os.listdir('.')\n",
    "    if(len(lis) == 2):\n",
    "        path = glob.glob('/Users/lexy/telemetry-system/service_data/data/1/2/'+str(sessionId_array_acceleration[idx])+'/*-*')[0]+'/metadata.json'\n",
    "        # Retrieving the Output from a single run + storing that output (lapTime, fuelConsumption, maxBrakeForce)\n",
    "        f = open(str(path))\n",
    "        out = json.load(f)\n",
    "        acceleration_results.loc[idx] = [out['data']['parameters']['finalDriveRatio'],out['data']['results']['lapTime'], out['data']['results']['fuelConsumption'], out['data']['results']['maxBrakeForce']]\n",
    "        f.close()\n",
    "    os.chdir('..')\n",
    "\n",
    "    os.chdir(path_test_skidpad)\n",
    "    lis = os.listdir('.')\n",
    "    if(len(lis) == 2):\n",
    "        path = glob.glob('/Users/lexy/telemetry-system/service_data/data/1/2/'+str(sessionId_array_skidpad[idx])+'/*-*')[0]+'/metadata.json'\n",
    "        # Retrieving the Output from a single run + storing that output (lapTime, fuelConsumption, maxBrakeForce)\n",
    "        f = open(str(path))\n",
    "        out = json.load(f)\n",
    "        skidpad_results.loc[idx] = [out['data']['parameters']['finalDriveRatio'],out['data']['results']['lapTime'], out['data']['results']['fuelConsumption'], out['data']['results']['maxBrakeForce']]\n",
    "        f.close()\n",
    "    os.chdir('..')\n",
    "\n",
    "    idx = idx + 1 "
   ]
  },
  {
   "cell_type": "code",
   "execution_count": 72,
   "metadata": {},
   "outputs": [
    {
     "data": {
      "text/html": "<div>\n<style scoped>\n    .dataframe tbody tr th:only-of-type {\n        vertical-align: middle;\n    }\n\n    .dataframe tbody tr th {\n        vertical-align: top;\n    }\n\n    .dataframe thead th {\n        text-align: right;\n    }\n</style>\n<table border=\"1\" class=\"dataframe\">\n  <thead>\n    <tr style=\"text-align: right;\">\n      <th></th>\n      <th>GearRatio</th>\n      <th>lapTime</th>\n      <th>fuelConsumption</th>\n      <th>maxBrakeForce</th>\n    </tr>\n  </thead>\n  <tbody>\n    <tr>\n      <th>0</th>\n      <td>0.00</td>\n      <td>23.525341</td>\n      <td>10.923068</td>\n      <td>104.644468</td>\n    </tr>\n    <tr>\n      <th>1</th>\n      <td>0.08</td>\n      <td>23.525341</td>\n      <td>10.923068</td>\n      <td>104.644468</td>\n    </tr>\n    <tr>\n      <th>2</th>\n      <td>0.16</td>\n      <td>23.525341</td>\n      <td>10.923068</td>\n      <td>104.644468</td>\n    </tr>\n    <tr>\n      <th>3</th>\n      <td>0.24</td>\n      <td>23.525341</td>\n      <td>10.923068</td>\n      <td>104.644468</td>\n    </tr>\n    <tr>\n      <th>4</th>\n      <td>0.32</td>\n      <td>23.525341</td>\n      <td>10.923068</td>\n      <td>104.644468</td>\n    </tr>\n    <tr>\n      <th>...</th>\n      <td>...</td>\n      <td>...</td>\n      <td>...</td>\n      <td>...</td>\n    </tr>\n    <tr>\n      <th>95</th>\n      <td>7.68</td>\n      <td>25.092369</td>\n      <td>2.476532</td>\n      <td>95.129999</td>\n    </tr>\n    <tr>\n      <th>96</th>\n      <td>7.76</td>\n      <td>25.275458</td>\n      <td>2.618625</td>\n      <td>95.129999</td>\n    </tr>\n    <tr>\n      <th>97</th>\n      <td>7.84</td>\n      <td>25.459244</td>\n      <td>2.451205</td>\n      <td>95.129999</td>\n    </tr>\n    <tr>\n      <th>98</th>\n      <td>7.92</td>\n      <td>25.643503</td>\n      <td>2.158550</td>\n      <td>95.129999</td>\n    </tr>\n    <tr>\n      <th>99</th>\n      <td>8.00</td>\n      <td>25.828510</td>\n      <td>2.044172</td>\n      <td>95.129999</td>\n    </tr>\n  </tbody>\n</table>\n<p>100 rows × 4 columns</p>\n</div>",
      "text/plain": "    GearRatio    lapTime  fuelConsumption  maxBrakeForce\n0        0.00  23.525341        10.923068     104.644468\n1        0.08  23.525341        10.923068     104.644468\n2        0.16  23.525341        10.923068     104.644468\n3        0.24  23.525341        10.923068     104.644468\n4        0.32  23.525341        10.923068     104.644468\n..        ...        ...              ...            ...\n95       7.68  25.092369         2.476532      95.129999\n96       7.76  25.275458         2.618625      95.129999\n97       7.84  25.459244         2.451205      95.129999\n98       7.92  25.643503         2.158550      95.129999\n99       8.00  25.828510         2.044172      95.129999\n\n[100 rows x 4 columns]"
     },
     "execution_count": 72,
     "metadata": {},
     "output_type": "execute_result"
    }
   ],
   "source": [
    "endurance_results"
   ]
  },
  {
   "cell_type": "code",
   "execution_count": 73,
   "metadata": {},
   "outputs": [
    {
     "data": {
      "text/html": "<div>\n<style scoped>\n    .dataframe tbody tr th:only-of-type {\n        vertical-align: middle;\n    }\n\n    .dataframe tbody tr th {\n        vertical-align: top;\n    }\n\n    .dataframe thead th {\n        text-align: right;\n    }\n</style>\n<table border=\"1\" class=\"dataframe\">\n  <thead>\n    <tr style=\"text-align: right;\">\n      <th></th>\n      <th>GearRatio</th>\n      <th>lapTime</th>\n      <th>fuelConsumption</th>\n      <th>maxBrakeForce</th>\n    </tr>\n  </thead>\n  <tbody>\n    <tr>\n      <th>0</th>\n      <td>0.00</td>\n      <td>23.525341</td>\n      <td>10.923068</td>\n      <td>104.644468</td>\n    </tr>\n    <tr>\n      <th>1</th>\n      <td>0.08</td>\n      <td>23.525341</td>\n      <td>10.923068</td>\n      <td>104.644468</td>\n    </tr>\n    <tr>\n      <th>2</th>\n      <td>0.16</td>\n      <td>23.525341</td>\n      <td>10.923068</td>\n      <td>104.644468</td>\n    </tr>\n    <tr>\n      <th>3</th>\n      <td>0.24</td>\n      <td>23.525341</td>\n      <td>10.923068</td>\n      <td>104.644468</td>\n    </tr>\n    <tr>\n      <th>4</th>\n      <td>0.32</td>\n      <td>23.525341</td>\n      <td>10.923068</td>\n      <td>104.644468</td>\n    </tr>\n    <tr>\n      <th>...</th>\n      <td>...</td>\n      <td>...</td>\n      <td>...</td>\n      <td>...</td>\n    </tr>\n    <tr>\n      <th>95</th>\n      <td>7.68</td>\n      <td>25.092369</td>\n      <td>2.476532</td>\n      <td>95.129999</td>\n    </tr>\n    <tr>\n      <th>96</th>\n      <td>7.76</td>\n      <td>25.275458</td>\n      <td>2.618625</td>\n      <td>95.129999</td>\n    </tr>\n    <tr>\n      <th>97</th>\n      <td>7.84</td>\n      <td>25.459244</td>\n      <td>2.451205</td>\n      <td>95.129999</td>\n    </tr>\n    <tr>\n      <th>98</th>\n      <td>7.92</td>\n      <td>25.643503</td>\n      <td>2.158550</td>\n      <td>95.129999</td>\n    </tr>\n    <tr>\n      <th>99</th>\n      <td>8.00</td>\n      <td>25.828510</td>\n      <td>2.044172</td>\n      <td>95.129999</td>\n    </tr>\n  </tbody>\n</table>\n<p>100 rows × 4 columns</p>\n</div>",
      "text/plain": "    GearRatio    lapTime  fuelConsumption  maxBrakeForce\n0        0.00  23.525341        10.923068     104.644468\n1        0.08  23.525341        10.923068     104.644468\n2        0.16  23.525341        10.923068     104.644468\n3        0.24  23.525341        10.923068     104.644468\n4        0.32  23.525341        10.923068     104.644468\n..        ...        ...              ...            ...\n95       7.68  25.092369         2.476532      95.129999\n96       7.76  25.275458         2.618625      95.129999\n97       7.84  25.459244         2.451205      95.129999\n98       7.92  25.643503         2.158550      95.129999\n99       8.00  25.828510         2.044172      95.129999\n\n[100 rows x 4 columns]"
     },
     "execution_count": 73,
     "metadata": {},
     "output_type": "execute_result"
    }
   ],
   "source": [
    "acceleration_results"
   ]
  },
  {
   "cell_type": "code",
   "execution_count": 74,
   "metadata": {},
   "outputs": [
    {
     "data": {
      "text/html": "<div>\n<style scoped>\n    .dataframe tbody tr th:only-of-type {\n        vertical-align: middle;\n    }\n\n    .dataframe tbody tr th {\n        vertical-align: top;\n    }\n\n    .dataframe thead th {\n        text-align: right;\n    }\n</style>\n<table border=\"1\" class=\"dataframe\">\n  <thead>\n    <tr style=\"text-align: right;\">\n      <th></th>\n      <th>GearRatio</th>\n      <th>lapTime</th>\n      <th>fuelConsumption</th>\n      <th>maxBrakeForce</th>\n    </tr>\n  </thead>\n  <tbody>\n    <tr>\n      <th>0</th>\n      <td>0.00</td>\n      <td>23.525341</td>\n      <td>10.923068</td>\n      <td>104.644468</td>\n    </tr>\n    <tr>\n      <th>1</th>\n      <td>0.08</td>\n      <td>23.525341</td>\n      <td>10.923068</td>\n      <td>104.644468</td>\n    </tr>\n    <tr>\n      <th>2</th>\n      <td>0.16</td>\n      <td>23.525341</td>\n      <td>10.923068</td>\n      <td>104.644468</td>\n    </tr>\n    <tr>\n      <th>3</th>\n      <td>0.24</td>\n      <td>23.525341</td>\n      <td>10.923068</td>\n      <td>104.644468</td>\n    </tr>\n    <tr>\n      <th>4</th>\n      <td>0.32</td>\n      <td>23.525341</td>\n      <td>10.923068</td>\n      <td>104.644468</td>\n    </tr>\n    <tr>\n      <th>...</th>\n      <td>...</td>\n      <td>...</td>\n      <td>...</td>\n      <td>...</td>\n    </tr>\n    <tr>\n      <th>95</th>\n      <td>7.68</td>\n      <td>25.092369</td>\n      <td>2.476532</td>\n      <td>95.129999</td>\n    </tr>\n    <tr>\n      <th>96</th>\n      <td>7.76</td>\n      <td>25.275458</td>\n      <td>2.618625</td>\n      <td>95.129999</td>\n    </tr>\n    <tr>\n      <th>97</th>\n      <td>7.84</td>\n      <td>25.459244</td>\n      <td>2.451205</td>\n      <td>95.129999</td>\n    </tr>\n    <tr>\n      <th>98</th>\n      <td>7.92</td>\n      <td>25.643503</td>\n      <td>2.158550</td>\n      <td>95.129999</td>\n    </tr>\n    <tr>\n      <th>99</th>\n      <td>8.00</td>\n      <td>25.828510</td>\n      <td>2.044172</td>\n      <td>95.129999</td>\n    </tr>\n  </tbody>\n</table>\n<p>100 rows × 4 columns</p>\n</div>",
      "text/plain": "    GearRatio    lapTime  fuelConsumption  maxBrakeForce\n0        0.00  23.525341        10.923068     104.644468\n1        0.08  23.525341        10.923068     104.644468\n2        0.16  23.525341        10.923068     104.644468\n3        0.24  23.525341        10.923068     104.644468\n4        0.32  23.525341        10.923068     104.644468\n..        ...        ...              ...            ...\n95       7.68  25.092369         2.476532      95.129999\n96       7.76  25.275458         2.618625      95.129999\n97       7.84  25.459244         2.451205      95.129999\n98       7.92  25.643503         2.158550      95.129999\n99       8.00  25.828510         2.044172      95.129999\n\n[100 rows x 4 columns]"
     },
     "execution_count": 74,
     "metadata": {},
     "output_type": "execute_result"
    }
   ],
   "source": [
    "skidpad_results"
   ]
  }
 ],
 "metadata": {
  "kernelspec": {
   "display_name": "Python 3.9.5 64-bit",
   "name": "python395jvsc74a57bd0aee8b7b246df8f9039afb4144a1f6fd8d2ca17a180786b69acc140d282b71a49"
  },
  "language_info": {
   "codemirror_mode": {
    "name": "ipython",
    "version": 3
   },
   "file_extension": ".py",
   "mimetype": "text/x-python",
   "name": "python",
   "nbconvert_exporter": "python",
   "pygments_lexer": "ipython3",
   "version": "3.9.5"
  },
  "metadata": {
   "interpreter": {
    "hash": "aee8b7b246df8f9039afb4144a1f6fd8d2ca17a180786b69acc140d282b71a49"
   }
  },
  "orig_nbformat": 3
 },
 "nbformat": 4,
 "nbformat_minor": 2
}